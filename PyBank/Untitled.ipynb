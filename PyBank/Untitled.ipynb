{
 "cells": [
  {
   "cell_type": "code",
   "execution_count": 1,
   "id": "d2bccb09-b1c4-4fdc-93b8-684c2a148a70",
   "metadata": {
    "tags": []
   },
   "outputs": [],
   "source": [
    "variable_number = 7.0"
   ]
  },
  {
   "cell_type": "code",
   "execution_count": 2,
   "id": "e1404db6-f238-4065-a6e1-2967be9bf33a",
   "metadata": {
    "tags": []
   },
   "outputs": [
    {
     "name": "stdout",
     "output_type": "stream",
     "text": [
      "7.0\n"
     ]
    }
   ],
   "source": [
    "print(variable_number)"
   ]
  },
  {
   "cell_type": "code",
   "execution_count": 3,
   "id": "baeb99c3-fda7-4111-8cf9-9cd867d5184b",
   "metadata": {
    "tags": []
   },
   "outputs": [],
   "source": [
    "#my_list = [0]"
   ]
  },
  {
   "cell_type": "code",
   "execution_count": 4,
   "id": "c823fb6c-119b-49f9-9e52-f682fa4d4663",
   "metadata": {
    "tags": []
   },
   "outputs": [],
   "source": [
    "my_list = [1, 3, 5, 8, 4]"
   ]
  },
  {
   "cell_type": "code",
   "execution_count": 5,
   "id": "186b1f8e-b628-4781-8869-5988d13febf6",
   "metadata": {
    "tags": []
   },
   "outputs": [
    {
     "name": "stdout",
     "output_type": "stream",
     "text": [
      "[1, 3, 5, 8, 4]\n"
     ]
    }
   ],
   "source": [
    "print(my_list)"
   ]
  },
  {
   "cell_type": "code",
   "execution_count": 6,
   "id": "dc476b3b-8d35-446d-a228-1e645a14d8f8",
   "metadata": {
    "tags": []
   },
   "outputs": [],
   "source": [
    "#my_list[0]"
   ]
  },
  {
   "cell_type": "code",
   "execution_count": 7,
   "id": "aba4c76b-8454-4b9d-857d-264ba0a7cdcc",
   "metadata": {
    "tags": []
   },
   "outputs": [],
   "source": [
    "#my_list[0]**2"
   ]
  },
  {
   "cell_type": "code",
   "execution_count": 8,
   "id": "32d3ac62-16df-4a80-91c6-cb62767f45dc",
   "metadata": {
    "tags": []
   },
   "outputs": [],
   "source": [
    "#my_list[1]**2"
   ]
  },
  {
   "cell_type": "code",
   "execution_count": 17,
   "id": "cb67f278-918a-481d-af81-24899fbf6ff8",
   "metadata": {
    "tags": []
   },
   "outputs": [
    {
     "name": "stdout",
     "output_type": "stream",
     "text": [
      "1\n",
      "9\n",
      "25\n",
      "64\n",
      "16\n"
     ]
    }
   ],
   "source": [
    "i = 0\n",
    "for number in my_list:\n",
    "    my_sqr = number **2\n",
    "    print(my_sqr)"
   ]
  },
  {
   "cell_type": "code",
   "execution_count": 24,
   "id": "b76c3abe-d14d-4865-926b-7416b51c3af7",
   "metadata": {
    "tags": []
   },
   "outputs": [],
   "source": [
    "a = 1\n",
    "b = 1\n",
    "if a > b:\n",
    "    print(\"A is greater than B\")\n",
    "    if a == 2:\n",
    "        print(\"A is 2\")\n",
    "elif a < b:\n",
    "    print(\"A is less than B\")\n",
    "    "
   ]
  },
  {
   "cell_type": "code",
   "execution_count": 69,
   "id": "64e61fb4-db21-4c45-a6ee-b425773469ae",
   "metadata": {
    "tags": []
   },
   "outputs": [
    {
     "name": "stdout",
     "output_type": "stream",
     "text": [
      "57714514\n"
     ]
    }
   ],
   "source": [
    "# Import the pathlib and csv library\n",
    "from pathlib import Path\n",
    "import csv\n",
    "\n",
    "# Set the file path\n",
    "csvpath = Path('budget_data.csv')\n",
    "\n",
    "# Initialize variable to hold salaries\n",
    "profit_losses = []\n",
    "\n",
    "# Initialize line_num variable\n",
    "#line_num = 0\n",
    "\n",
    "# Open the input path as a file object\n",
    "with open(csvpath, 'r') as csvfile:\n",
    "\n",
    "    # Print the datatype of the file object\n",
    "    #print(type(csvfile))\n",
    "\n",
    "    # Pass in the csv file to the csv.reader() function\n",
    "    # (with ',' as the delmiter/separator) and return the csvreader object\n",
    "    csvreader = csv.reader(csvfile, delimiter=',')\n",
    "    # Print the datatype of the csvreader\n",
    "    #print(type(csvreader))\n",
    "\n",
    "    # Go to the next row from the start of the file\n",
    "    # (which is often the first row/header) and iterate line_num by 1\n",
    "    header = next(csvreader)\n",
    "    #line_num += 1\n",
    "    # Print the header\n",
    "    #print(f\"{header} <---- HEADER\")\n",
    "\n",
    "    # Read each row of data after the header\n",
    "    for row in csvreader:\n",
    "        # Print the row\n",
    "        #print(row)\n",
    "        # Set salary variable equal to the value in the 4th column of each row\n",
    "        profit_loss = int(row[1])\n",
    "        month =()\n",
    "        # Append the row salary value to the list of salaries\n",
    "        profit_losses.append(profit_loss)\n",
    "        \n",
    "# Initialize metric variables\n",
    "max_change = 0\n",
    "min_change = 0\n",
    "avg_change = 0\n",
    "total_profit_loss = 0\n",
    "count_months = 0\n",
    "\n",
    "# Calculate the max, mean, and average of the list of salaries\n",
    "for changes in profit_losses:\n",
    "\n",
    "    # Sum the total and count variables\n",
    "    total_profit_loss = total_profit_loss + profit_loss\n",
    "    #total_profit_loss = total_profit_loss + profit_losses[1]\n",
    "    count_months += 1\n",
    "\n",
    "    # Logic to determine min and max salaries\n",
    "    if min_change == 0:\n",
    "        min_change = changes\n",
    "    elif changes > max_change:\n",
    "        max_change = changes\n",
    "    elif changes < min_change:\n",
    "        min_change = changes\n",
    "\n",
    "# Calculate the average salary, round to the nearest 2 decimal places\n",
    "avg_salary = round(total_salary / count_salary, 2)\n",
    "\n",
    "# Print the metrics\n",
    "print(total_profit_loss) #count_months)\n",
    "\n",
    "\n"
   ]
  },
  {
   "cell_type": "code",
   "execution_count": null,
   "id": "885ded6e-eb30-46c9-8aad-596d143773fe",
   "metadata": {},
   "outputs": [],
   "source": [
    "# Set the output header\n",
    "#header = [\"Max_Salary\", \"Min_Salary\", \"Avg_Salary\"]\n",
    "# Create a list of metrics\n",
    "#metrics = [max_salary, min_salary, avg_salary]\n",
    "\n",
    "# Set the output file path\n",
    "#output_path = Path('output.csv')\n",
    "\n",
    "# Open the output path as a file object\n",
    "#with open(output_path, 'w') as csvfile:\n",
    "    # Set the file object as a csvwriter object\n",
    "    #csvwriter = csv.writer(csvfile, delimiter=',')\n",
    "    # Write the header to the output file\n",
    "    #csvwriter.writerow(header)\n",
    "    # Write the list of metrics to the output file\n",
    "    #csvwriter.writerow(metrics)"
   ]
  }
 ],
 "metadata": {
  "kernelspec": {
   "display_name": "Python 3 (ipykernel)",
   "language": "python",
   "name": "python3"
  },
  "language_info": {
   "codemirror_mode": {
    "name": "ipython",
    "version": 3
   },
   "file_extension": ".py",
   "mimetype": "text/x-python",
   "name": "python",
   "nbconvert_exporter": "python",
   "pygments_lexer": "ipython3",
   "version": "3.10.13"
  }
 },
 "nbformat": 4,
 "nbformat_minor": 5
}
