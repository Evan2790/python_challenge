{
 "cells": [
  {
   "cell_type": "code",
   "execution_count": 30,
   "id": "1ef966f1-d921-4d1d-95e2-7b5eb869c3a7",
   "metadata": {
    "tags": []
   },
   "outputs": [],
   "source": [
    "from pathlib import Path\n",
    "import csv"
   ]
  },
  {
   "cell_type": "code",
   "execution_count": 31,
   "id": "6868c567-aca7-4d55-b353-ed7e90162758",
   "metadata": {
    "tags": []
   },
   "outputs": [
    {
     "name": "stdout",
     "output_type": "stream",
     "text": [
      "Financial Analysis\n",
      "-------------------------\n",
      "Total Months: 86\n",
      "Total Profit/Losses: $38382578\n",
      "Average Change: $-2315.12\n",
      "Greatest Increase in Profits: Feb-2012 ($1926159)\n",
      "Greatest Decrease in Losses: Sep-2013 ($-2196167)\n"
     ]
    }
   ],
   "source": [
    "#initialize variables\n",
    "total_months = 0\n",
    "net_profit_losses = 0\n",
    "previous_month_profit = 0\n",
    "monthly_changes = []\n",
    "months = [\"\"]\n",
    "greatest_increase = 0\n",
    "greatest_decrease = 0\n",
    "greatest_increase_month = \"\"\n",
    "greatest_decrease_month = \"\"\n",
    "\n",
    "\n",
    "# Read in data\n",
    "budget_data_path = Path('budget_data.csv')\n",
    "with open(budget_data_path, 'r') as budget_data: #\n",
    "    csvreader = csv.reader(budget_data, delimiter=',')\n",
    "    csv_header = next(csvreader)\n",
    "   \n",
    "    #Create for loop to iterate data\n",
    "    for row in csvreader:\n",
    "        month = row[0]\n",
    "        profit_loss = int(row[1])\n",
    "        total_months += 1\n",
    "        net_profit_losses += profit_loss\n",
    "        #Create if statement to append list\n",
    "        if total_months > 1:\n",
    "            monthly_change = profit_loss - previous_month_profit\n",
    "            monthly_changes.append(monthly_change)\n",
    "            months.append(month)\n",
    "            #Create if statement to append list\n",
    "            if monthly_change > greatest_increase:\n",
    "                greatest_increase = monthly_change\n",
    "                greatest_increase_month = month\n",
    "            elif monthly_change < greatest_decrease:\n",
    "                greatest_decrease = monthly_change\n",
    "                greatest_decrease_month = month\n",
    "\n",
    "        previous_month_profit = profit_loss\n",
    "#Calculate average change     \n",
    "average_change = sum(monthly_changes) / len(monthly_changes)\n",
    "\n",
    "\n",
    "# Print the results\n",
    "print(\"Financial Analysis\")\n",
    "print(\"-------------------------\")\n",
    "print(f\"Total Months: {total_months}\")\n",
    "print(f\"Total Profit/Losses: ${net_profit_losses}\")\n",
    "print(f\"Average Change: ${average_change:.2f}\")\n",
    "print(f\"Greatest Increase in Profits: {greatest_increase_month} (${greatest_increase})\")\n",
    "print(f\"Greatest Decrease in Losses: {greatest_decrease_month} (${greatest_decrease})\")\n",
    "\n",
    "        \n",
    "        \n",
    "# Set the output file path\n",
    "output_path = Path(\"output.txt\")\n",
    "\n",
    "# Open the output_path as a file object in \"write\" mode ('w')\n",
    "# write the contents of 'text' to the file\n",
    "with open(output_path, 'w') as file:\n",
    "    file.write(\"Financial Analysis\")\n",
    "    file.write(\"\\n\")\n",
    "    file.write(\"-------------------------\")\n",
    "    file.write(\"\\n\")\n",
    "    file.write(f\"Total Months: {total_months}\")\n",
    "    file.write(\"\\n\")\n",
    "    file.write(f\"Total Profit/Losses: ${net_profit_losses}\")\n",
    "    file.write(\"\\n\")\n",
    "    file.write(f\"Average Change: ${average_change:.2f}\")\n",
    "    file.write(\"\\n\")\n",
    "    file.write(f\"Greatest Increase in Profits: {greatest_increase_month} (${greatest_increase})\")\n",
    "    file.write(\"\\n\")\n",
    "    file.write(f\"Greatest Decrease in Losses: {greatest_decrease_month} (${greatest_decrease})\")\n",
    "    \n",
    "    "
   ]
  },
  {
   "cell_type": "code",
   "execution_count": null,
   "id": "07013774-6b08-4d76-866b-75114ac34875",
   "metadata": {},
   "outputs": [],
   "source": []
  }
 ],
 "metadata": {
  "kernelspec": {
   "display_name": "Python 3 (ipykernel)",
   "language": "python",
   "name": "python3"
  },
  "language_info": {
   "codemirror_mode": {
    "name": "ipython",
    "version": 3
   },
   "file_extension": ".py",
   "mimetype": "text/x-python",
   "name": "python",
   "nbconvert_exporter": "python",
   "pygments_lexer": "ipython3",
   "version": "3.10.13"
  }
 },
 "nbformat": 4,
 "nbformat_minor": 5
}
